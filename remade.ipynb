{
 "cells": [
  {
   "cell_type": "markdown",
   "metadata": {},
   "source": [
    "# Pytorch"
   ]
  },
  {
   "cell_type": "code",
   "execution_count": 1,
   "metadata": {},
   "outputs": [],
   "source": [
    "import numpy as np \n",
    "import pandas as pd\n",
    "import matplotlib.pyplot as plt "
   ]
  },
  {
   "cell_type": "code",
   "execution_count": 2,
   "metadata": {},
   "outputs": [],
   "source": [
    "raw_train = pd.read_csv(\"train.csv\")\n",
    "raw_test = pd.read_csv(\"test.csv\")"
   ]
  },
  {
   "cell_type": "code",
   "execution_count": 3,
   "metadata": {},
   "outputs": [
    {
     "data": {
      "text/plain": [
       "((42000, 785), (28000, 784))"
      ]
     },
     "execution_count": 3,
     "metadata": {},
     "output_type": "execute_result"
    }
   ],
   "source": [
    "raw_train.shape, raw_test.shape"
   ]
  },
  {
   "cell_type": "code",
   "execution_count": 19,
   "metadata": {},
   "outputs": [],
   "source": [
    "X = raw_train.drop(\"label\", axis=1)\n",
    "y = raw_train[\"label\"]"
   ]
  },
  {
   "cell_type": "code",
   "execution_count": 20,
   "metadata": {},
   "outputs": [],
   "source": [
    "from sklearn.model_selection import train_test_split\n",
    "X_train, X_val, y_train, y_val = train_test_split(X, y, test_size=0.2, random_state=42)"
   ]
  },
  {
   "cell_type": "code",
   "execution_count": 6,
   "metadata": {},
   "outputs": [],
   "source": [
    "import torch \n",
    "import torch.nn as nn"
   ]
  },
  {
   "cell_type": "code",
   "execution_count": 7,
   "metadata": {},
   "outputs": [],
   "source": [
    "class CNN(nn.Module):\n",
    "    def __init__(self):\n",
    "        super(CNN, self).__init__()\n",
    "        # Conv 1\n",
    "        self.conv1 = nn.Conv2d(1, 16, kernel_size=3, stride=1, padding=0) # 16, 26, 26\n",
    "        self.relu1 = nn.ReLU()\n",
    "        # Maxpool 1\n",
    "        self.pool1 = nn.MaxPool2d(kernel_size=2, stride=2, padding=0) # 16, 13, 13\n",
    "        # Conv 2\n",
    "        self.conv2 = nn.Conv2d(16, 32, kernel_size=3, stride=1, padding=0) # 32, 11, 11\n",
    "        self.relu2 = nn.ReLU()\n",
    "        # Maxpool 2\n",
    "        self.pool2 = nn.MaxPool2d(kernel_size=2, stride=2, padding=0) # 32, 5, 5\n",
    "        \n",
    "        # dense 1\n",
    "        self.fc1 = nn.Linear(32*5*5, 128)\n",
    "        self.relu3 = nn.ReLU()\n",
    "        # dense 2\n",
    "        self.fc2 = nn.Linear(128, 10)\n",
    "        \n",
    "    def forward(self,x):\n",
    "        out = self.conv1(x)\n",
    "        out = self.relu1(out)\n",
    "        out = self.pool1(out)\n",
    "        out = self.conv2(out)\n",
    "        out = self.relu2(out)\n",
    "        out = self.pool2(out)\n",
    "        out = out.view(out.size(0), -1) # flatten\n",
    "        out = self.fc1(out)\n",
    "        out = self.relu3(out)\n",
    "        out = self.fc2(out)\n",
    "        return out\n"
   ]
  },
  {
   "cell_type": "code",
   "execution_count": 13,
   "metadata": {},
   "outputs": [],
   "source": [
    "batch_size = 100 # 100 images per batch\n",
    "epochs = 10"
   ]
  },
  {
   "cell_type": "code",
   "execution_count": 21,
   "metadata": {},
   "outputs": [],
   "source": [
    "# change to tensor \n",
    "X_train = torch.tensor(X_train.values, dtype=torch.float32)\n",
    "y_train = torch.tensor(y_train.values, dtype=torch.long)\n",
    "X_val = torch.tensor(X_val.values, dtype=torch.float32)\n",
    "y_val = torch.tensor(y_val.values, dtype=torch.long)"
   ]
  },
  {
   "cell_type": "code",
   "execution_count": 22,
   "metadata": {},
   "outputs": [],
   "source": [
    "from torch.utils.data import DataLoader, TensorDataset\n",
    "train = TensorDataset(X_train, y_train) # make the dataset into torch tensor\n",
    "test = TensorDataset(X_val, y_val) # make the dataset into torch tensor\n",
    "\n",
    "train_loader = DataLoader(train, batch_size=batch_size, shuffle=True) # shuffle and batch the data\n",
    "test_loader = DataLoader(test, batch_size=batch_size, shuffle=False) \n",
    "\n",
    "# Model, loss, compiler \n",
    "model = CNN()\n",
    "criterion = nn.CrossEntropyLoss() # using entropy loss\n",
    "optimizer = torch.optim.Adam(model.parameters(), lr=0.001) # using Adam optimizer"
   ]
  },
  {
   "cell_type": "code",
   "execution_count": 23,
   "metadata": {},
   "outputs": [
    {
     "name": "stdout",
     "output_type": "stream",
     "text": [
      "Iteration: 100. Loss: 0.18412011861801147. Accuracy: 93.92857360839844\n",
      "Iteration: 200. Loss: 0.15688851475715637. Accuracy: 95.96428680419922\n",
      "Iteration: 300. Loss: 0.09548826515674591. Accuracy: 96.97618865966797\n",
      "Iteration: 400. Loss: 0.18761688470840454. Accuracy: 97.55952453613281\n",
      "Iteration: 500. Loss: 0.04079797863960266. Accuracy: 97.3452377319336\n",
      "Iteration: 600. Loss: 0.10470384359359741. Accuracy: 97.55952453613281\n",
      "Iteration: 700. Loss: 0.02339797280728817. Accuracy: 98.07142639160156\n",
      "Iteration: 800. Loss: 0.1691151112318039. Accuracy: 97.88095092773438\n",
      "Iteration: 900. Loss: 0.0388951450586319. Accuracy: 98.33333587646484\n",
      "Iteration: 1000. Loss: 0.1226687878370285. Accuracy: 98.10713958740234\n",
      "Iteration: 1100. Loss: 0.014458319172263145. Accuracy: 98.28571319580078\n",
      "Iteration: 1200. Loss: 0.07091951370239258. Accuracy: 98.16666412353516\n",
      "Iteration: 1300. Loss: 0.023702062666416168. Accuracy: 98.11904907226562\n",
      "Iteration: 1400. Loss: 0.007712169084697962. Accuracy: 98.55952453613281\n",
      "Iteration: 1500. Loss: 0.00462478119879961. Accuracy: 98.36904907226562\n",
      "Iteration: 1600. Loss: 0.005966018419712782. Accuracy: 98.42857360839844\n",
      "Iteration: 1700. Loss: 0.020165324211120605. Accuracy: 98.28571319580078\n",
      "Iteration: 1800. Loss: 0.04564908519387245. Accuracy: 98.20237731933594\n",
      "Iteration: 1900. Loss: 0.03687364608049393. Accuracy: 98.16666412353516\n",
      "Iteration: 2000. Loss: 0.0076613035053014755. Accuracy: 98.5952377319336\n",
      "Iteration: 2100. Loss: 0.04685913026332855. Accuracy: 98.20237731933594\n",
      "Iteration: 2200. Loss: 0.015156349167227745. Accuracy: 98.47618865966797\n",
      "Iteration: 2300. Loss: 0.036577772349119186. Accuracy: 98.3452377319336\n",
      "Iteration: 2400. Loss: 0.0028003212064504623. Accuracy: 98.42857360839844\n",
      "Iteration: 2500. Loss: 0.010424853302538395. Accuracy: 98.47618865966797\n",
      "Iteration: 2600. Loss: 0.037927862256765366. Accuracy: 98.36904907226562\n",
      "Iteration: 2700. Loss: 0.0006895334227010608. Accuracy: 98.22618865966797\n",
      "Iteration: 2800. Loss: 0.061902426183223724. Accuracy: 98.08333587646484\n",
      "Iteration: 2900. Loss: 0.06758155673742294. Accuracy: 98.42857360839844\n",
      "Iteration: 3000. Loss: 0.0013600499369204044. Accuracy: 98.25\n",
      "Iteration: 3100. Loss: 0.09824933856725693. Accuracy: 98.38095092773438\n",
      "Iteration: 3200. Loss: 0.0444975420832634. Accuracy: 98.45237731933594\n",
      "Iteration: 3300. Loss: 0.003065828001126647. Accuracy: 98.5\n"
     ]
    }
   ],
   "source": [
    "iter = 0 \n",
    "loss_list = [] \n",
    "iter_list = []\n",
    "acc_list = []\n",
    "for epoch in range(epochs):\n",
    "    for (images,labels) in train_loader:\n",
    "        \n",
    "        # Forward pass\n",
    "        outputs = model(images.view(-1,1,28,28)) # reshape the img to (28*28)\n",
    "        loss = criterion(outputs, labels) # calculate the loss\n",
    "        \n",
    "        optimizer.zero_grad() # clear grad\n",
    "        loss.backward() # backpropagation\n",
    "        optimizer.step() # update the weights\n",
    "        \n",
    "        iter += 1\n",
    "        if iter % 100 == 0:\n",
    "            correct = 0\n",
    "            total = 0\n",
    "            for images, labels in test_loader: \n",
    "                outputs = model(images.view(-1,1,28,28)) # reshape  and pass forward\n",
    "                # the shape of outputs: (batch_size, 10) \n",
    "                _, predicted = torch.max(outputs.data, dim=1) # get the max value \n",
    "                total += len(labels)\n",
    "                correct += (predicted == labels).sum()\n",
    "            accuracy = 100 * correct / total\n",
    "            \n",
    "            loss_list.append(loss.item())\n",
    "            iter_list.append(iter)\n",
    "            acc_list.append(accuracy)\n",
    "            print(\"Iteration: {}. Loss: {}. Accuracy: {}\".format(iter, loss.item(), accuracy))"
   ]
  },
  {
   "cell_type": "markdown",
   "metadata": {},
   "source": [
    "*cant run larger epoch because of my bad cpu*"
   ]
  },
  {
   "cell_type": "markdown",
   "metadata": {},
   "source": [
    "Using the path I train (100 epochs) on Colab (thanks google hehe) "
   ]
  },
  {
   "cell_type": "code",
   "execution_count": 27,
   "metadata": {},
   "outputs": [
    {
     "data": {
      "text/plain": [
       "<All keys matched successfully>"
      ]
     },
     "execution_count": 27,
     "metadata": {},
     "output_type": "execute_result"
    }
   ],
   "source": [
    "#load cnn_model.pth\n",
    "model.load_state_dict(torch.load(\"cnn_model.pth\", map_location=\"cpu\"))"
   ]
  },
  {
   "cell_type": "code",
   "execution_count": 28,
   "metadata": {},
   "outputs": [],
   "source": [
    "test_X = torch.tensor(raw_test.values, dtype=torch.float32)"
   ]
  },
  {
   "cell_type": "code",
   "execution_count": 31,
   "metadata": {},
   "outputs": [],
   "source": [
    "# no grad mode\n",
    "with torch.no_grad():\n",
    "    output = model(test_X.view(-1,1,28,28))\n"
   ]
  },
  {
   "cell_type": "code",
   "execution_count": 37,
   "metadata": {},
   "outputs": [
    {
     "data": {
      "text/plain": [
       "torch.Size([28000])"
      ]
     },
     "execution_count": 37,
     "metadata": {},
     "output_type": "execute_result"
    }
   ],
   "source": [
    "_, predicted = torch.max(output.data, dim=1) # get the max value \n",
    "predicted.shape"
   ]
  },
  {
   "cell_type": "code",
   "execution_count": 38,
   "metadata": {},
   "outputs": [
    {
     "data": {
      "text/plain": [
       "tensor([2, 0, 9,  ..., 3, 9, 2])"
      ]
     },
     "execution_count": 38,
     "metadata": {},
     "output_type": "execute_result"
    }
   ],
   "source": [
    "predicted"
   ]
  },
  {
   "cell_type": "code",
   "execution_count": 39,
   "metadata": {},
   "outputs": [],
   "source": [
    "predicted = predicted.numpy()\n",
    "pd.DataFrame({\"ImageId\":np.arange(1,len(predicted)+1),\"Label\":predicted}).to_csv(\"Pytorch_submission.csv\",index=False)"
   ]
  }
 ],
 "metadata": {
  "kernelspec": {
   "display_name": "base",
   "language": "python",
   "name": "python3"
  },
  "language_info": {
   "codemirror_mode": {
    "name": "ipython",
    "version": 3
   },
   "file_extension": ".py",
   "mimetype": "text/x-python",
   "name": "python",
   "nbconvert_exporter": "python",
   "pygments_lexer": "ipython3",
   "version": "3.11.9"
  }
 },
 "nbformat": 4,
 "nbformat_minor": 2
}
